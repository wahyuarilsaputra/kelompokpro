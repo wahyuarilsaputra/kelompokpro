{
 "cells": [
  {
   "attachments": {},
   "cell_type": "markdown",
   "metadata": {},
   "source": [
    "# Nama Kelompok :\n",
    "1. wahyu Aril Saputra (200411100055) (ketua)\n",
    "2. Billy Morgen Simbolon (200411100057) (anggota)\n",
    "\n",
    "https://github.com/wahyuarilsaputra/kelompokpro\n"
   ]
  },
  {
   "cell_type": "code",
   "execution_count": 1,
   "metadata": {},
   "outputs": [],
   "source": [
    "import numpy as np\n",
    "import pandas as pd\n",
    "import matplotlib.pyplot as plt"
   ]
  },
  {
   "cell_type": "code",
   "execution_count": 2,
   "metadata": {},
   "outputs": [
    {
     "data": {
      "text/plain": [
       "(247, 7)"
      ]
     },
     "execution_count": 2,
     "metadata": {},
     "output_type": "execute_result"
    }
   ],
   "source": [
    "data = pd.read_csv('BBTN.JK.csv')\n",
    "dataFrame = pd.DataFrame(data)\n",
    "dataFrame.shape"
   ]
  },
  {
   "cell_type": "code",
   "execution_count": 3,
   "metadata": {},
   "outputs": [
    {
     "data": {
      "text/html": [
       "<div>\n",
       "<style scoped>\n",
       "    .dataframe tbody tr th:only-of-type {\n",
       "        vertical-align: middle;\n",
       "    }\n",
       "\n",
       "    .dataframe tbody tr th {\n",
       "        vertical-align: top;\n",
       "    }\n",
       "\n",
       "    .dataframe thead th {\n",
       "        text-align: right;\n",
       "    }\n",
       "</style>\n",
       "<table border=\"1\" class=\"dataframe\">\n",
       "  <thead>\n",
       "    <tr style=\"text-align: right;\">\n",
       "      <th></th>\n",
       "      <th>Date</th>\n",
       "      <th>Open</th>\n",
       "      <th>High</th>\n",
       "      <th>Low</th>\n",
       "      <th>Close</th>\n",
       "      <th>Adj Close</th>\n",
       "      <th>Volume</th>\n",
       "    </tr>\n",
       "  </thead>\n",
       "  <tbody>\n",
       "    <tr>\n",
       "      <th>0</th>\n",
       "      <td>2022-06-15</td>\n",
       "      <td>1495.0</td>\n",
       "      <td>1510.0</td>\n",
       "      <td>1470.0</td>\n",
       "      <td>1490.0</td>\n",
       "      <td>1438.684570</td>\n",
       "      <td>13594300</td>\n",
       "    </tr>\n",
       "    <tr>\n",
       "      <th>1</th>\n",
       "      <td>2022-06-16</td>\n",
       "      <td>1500.0</td>\n",
       "      <td>1515.0</td>\n",
       "      <td>1495.0</td>\n",
       "      <td>1500.0</td>\n",
       "      <td>1448.340210</td>\n",
       "      <td>25436000</td>\n",
       "    </tr>\n",
       "    <tr>\n",
       "      <th>2</th>\n",
       "      <td>2022-06-17</td>\n",
       "      <td>1485.0</td>\n",
       "      <td>1495.0</td>\n",
       "      <td>1470.0</td>\n",
       "      <td>1480.0</td>\n",
       "      <td>1429.029053</td>\n",
       "      <td>17891900</td>\n",
       "    </tr>\n",
       "    <tr>\n",
       "      <th>3</th>\n",
       "      <td>2022-06-20</td>\n",
       "      <td>1500.0</td>\n",
       "      <td>1500.0</td>\n",
       "      <td>1455.0</td>\n",
       "      <td>1465.0</td>\n",
       "      <td>1414.545654</td>\n",
       "      <td>13066800</td>\n",
       "    </tr>\n",
       "    <tr>\n",
       "      <th>4</th>\n",
       "      <td>2022-06-21</td>\n",
       "      <td>1475.0</td>\n",
       "      <td>1495.0</td>\n",
       "      <td>1475.0</td>\n",
       "      <td>1485.0</td>\n",
       "      <td>1433.856812</td>\n",
       "      <td>10315100</td>\n",
       "    </tr>\n",
       "    <tr>\n",
       "      <th>5</th>\n",
       "      <td>2022-06-22</td>\n",
       "      <td>1495.0</td>\n",
       "      <td>1525.0</td>\n",
       "      <td>1480.0</td>\n",
       "      <td>1490.0</td>\n",
       "      <td>1438.684570</td>\n",
       "      <td>17014700</td>\n",
       "    </tr>\n",
       "    <tr>\n",
       "      <th>6</th>\n",
       "      <td>2022-06-23</td>\n",
       "      <td>1490.0</td>\n",
       "      <td>1495.0</td>\n",
       "      <td>1475.0</td>\n",
       "      <td>1480.0</td>\n",
       "      <td>1429.029053</td>\n",
       "      <td>9181200</td>\n",
       "    </tr>\n",
       "    <tr>\n",
       "      <th>7</th>\n",
       "      <td>2022-06-24</td>\n",
       "      <td>1500.0</td>\n",
       "      <td>1500.0</td>\n",
       "      <td>1485.0</td>\n",
       "      <td>1485.0</td>\n",
       "      <td>1433.856812</td>\n",
       "      <td>7421300</td>\n",
       "    </tr>\n",
       "    <tr>\n",
       "      <th>8</th>\n",
       "      <td>2022-06-27</td>\n",
       "      <td>1495.0</td>\n",
       "      <td>1505.0</td>\n",
       "      <td>1490.0</td>\n",
       "      <td>1500.0</td>\n",
       "      <td>1448.340210</td>\n",
       "      <td>7768200</td>\n",
       "    </tr>\n",
       "    <tr>\n",
       "      <th>9</th>\n",
       "      <td>2022-06-28</td>\n",
       "      <td>1500.0</td>\n",
       "      <td>1500.0</td>\n",
       "      <td>1485.0</td>\n",
       "      <td>1500.0</td>\n",
       "      <td>1448.340210</td>\n",
       "      <td>6500100</td>\n",
       "    </tr>\n",
       "  </tbody>\n",
       "</table>\n",
       "</div>"
      ],
      "text/plain": [
       "         Date    Open    High     Low   Close    Adj Close    Volume\n",
       "0  2022-06-15  1495.0  1510.0  1470.0  1490.0  1438.684570  13594300\n",
       "1  2022-06-16  1500.0  1515.0  1495.0  1500.0  1448.340210  25436000\n",
       "2  2022-06-17  1485.0  1495.0  1470.0  1480.0  1429.029053  17891900\n",
       "3  2022-06-20  1500.0  1500.0  1455.0  1465.0  1414.545654  13066800\n",
       "4  2022-06-21  1475.0  1495.0  1475.0  1485.0  1433.856812  10315100\n",
       "5  2022-06-22  1495.0  1525.0  1480.0  1490.0  1438.684570  17014700\n",
       "6  2022-06-23  1490.0  1495.0  1475.0  1480.0  1429.029053   9181200\n",
       "7  2022-06-24  1500.0  1500.0  1485.0  1485.0  1433.856812   7421300\n",
       "8  2022-06-27  1495.0  1505.0  1490.0  1500.0  1448.340210   7768200\n",
       "9  2022-06-28  1500.0  1500.0  1485.0  1500.0  1448.340210   6500100"
      ]
     },
     "execution_count": 3,
     "metadata": {},
     "output_type": "execute_result"
    }
   ],
   "source": [
    "data = pd.read_csv('BBTN.JK.csv')\n",
    "dataFrame = pd.DataFrame(data)\n",
    "dataFrame.head(10)"
   ]
  },
  {
   "cell_type": "code",
   "execution_count": 4,
   "metadata": {},
   "outputs": [
    {
     "data": {
      "text/plain": [
       "[<matplotlib.lines.Line2D at 0x7efc8fd5cf10>]"
      ]
     },
     "execution_count": 4,
     "metadata": {},
     "output_type": "execute_result"
    },
    {
     "data": {
      "image/png": "[encoded data removed]",
      "text/plain": [
       "<Figure size 640x480 with 1 Axes>"
      ]
     },
     "metadata": {},
     "output_type": "display_data"
    }
   ],
   "source": [
    "X = data['Date']\n",
    "y = data['Volume']\n",
    "plt.plot(X,y)\n",
    "# print(y.shape)"
   ]
  },
  {
   "cell_type": "code",
   "execution_count": 11,
   "metadata": {},
   "outputs": [
    {
     "name": "stdout",
     "output_type": "stream",
     "text": [
      "Shapes Target =  (243,)\n",
      "Shapes X =  (239, 4)\n",
      "Shapes Y =  (239,)\n"
     ]
    }
   ],
   "source": [
    "def split_sequence(sequence, n_steps):\n",
    "  X, y = list(), list()\n",
    "  for i in range(len(sequence)):\n",
    "    # Mencari n akhir\n",
    "    end_ix = i + n_steps\n",
    "    # Memeriksa urutan terluar dari data\n",
    "    if end_ix > len(sequence)-1:\n",
    "      break\n",
    "    # Menambahkan bagian input dan output\n",
    "    seq_x, seq_y = sequence[i:end_ix], sequence[end_ix]\n",
    "    # print(seq_x, seq_y)\n",
    "    X.append(seq_x)\n",
    "    y.append(seq_y)\n",
    "  return np.array(X), np.array(y)\n",
    "\n",
    "# Menentukan Waktu dari data time series\n",
    "jmlh_X = 4\n",
    "print('Shapes Target = ',y.shape)\n",
    "#Split data fitur dan target\n",
    "X, y = split_sequence(y, jmlh_X)\n",
    "print('Shapes X = ',X.shape)\n",
    "print('Shapes Y = ',y.shape)"
   ]
  },
  {
   "cell_type": "code",
   "execution_count": 6,
   "metadata": {},
   "outputs": [],
   "source": [
    "newFitur = pd.DataFrame(X, columns=['t-'+str(i+1) for i in range(jmlh_X-1, -1,-1)])\n",
    "newTarget = pd.DataFrame(y, columns=['Data Prediksi'])"
   ]
  },
  {
   "cell_type": "code",
   "execution_count": 7,
   "metadata": {},
   "outputs": [
    {
     "data": {
      "text/html": [
       "<div>\n",
       "<style scoped>\n",
       "    .dataframe tbody tr th:only-of-type {\n",
       "        vertical-align: middle;\n",
       "    }\n",
       "\n",
       "    .dataframe tbody tr th {\n",
       "        vertical-align: top;\n",
       "    }\n",
       "\n",
       "    .dataframe thead th {\n",
       "        text-align: right;\n",
       "    }\n",
       "</style>\n",
       "<table border=\"1\" class=\"dataframe\">\n",
       "  <thead>\n",
       "    <tr style=\"text-align: right;\">\n",
       "      <th></th>\n",
       "      <th>t-4</th>\n",
       "      <th>t-3</th>\n",
       "      <th>t-2</th>\n",
       "      <th>t-1</th>\n",
       "      <th>Data Prediksi</th>\n",
       "    </tr>\n",
       "  </thead>\n",
       "  <tbody>\n",
       "    <tr>\n",
       "      <th>0</th>\n",
       "      <td>13594300</td>\n",
       "      <td>25436000</td>\n",
       "      <td>17891900</td>\n",
       "      <td>13066800</td>\n",
       "      <td>10315100</td>\n",
       "    </tr>\n",
       "    <tr>\n",
       "      <th>1</th>\n",
       "      <td>25436000</td>\n",
       "      <td>17891900</td>\n",
       "      <td>13066800</td>\n",
       "      <td>10315100</td>\n",
       "      <td>17014700</td>\n",
       "    </tr>\n",
       "    <tr>\n",
       "      <th>2</th>\n",
       "      <td>17891900</td>\n",
       "      <td>13066800</td>\n",
       "      <td>10315100</td>\n",
       "      <td>17014700</td>\n",
       "      <td>9181200</td>\n",
       "    </tr>\n",
       "    <tr>\n",
       "      <th>3</th>\n",
       "      <td>13066800</td>\n",
       "      <td>10315100</td>\n",
       "      <td>17014700</td>\n",
       "      <td>9181200</td>\n",
       "      <td>7421300</td>\n",
       "    </tr>\n",
       "    <tr>\n",
       "      <th>4</th>\n",
       "      <td>10315100</td>\n",
       "      <td>17014700</td>\n",
       "      <td>9181200</td>\n",
       "      <td>7421300</td>\n",
       "      <td>7768200</td>\n",
       "    </tr>\n",
       "    <tr>\n",
       "      <th>...</th>\n",
       "      <td>...</td>\n",
       "      <td>...</td>\n",
       "      <td>...</td>\n",
       "      <td>...</td>\n",
       "      <td>...</td>\n",
       "    </tr>\n",
       "    <tr>\n",
       "      <th>238</th>\n",
       "      <td>42089100</td>\n",
       "      <td>30234200</td>\n",
       "      <td>63340400</td>\n",
       "      <td>22158200</td>\n",
       "      <td>17533200</td>\n",
       "    </tr>\n",
       "    <tr>\n",
       "      <th>239</th>\n",
       "      <td>30234200</td>\n",
       "      <td>63340400</td>\n",
       "      <td>22158200</td>\n",
       "      <td>17533200</td>\n",
       "      <td>13335000</td>\n",
       "    </tr>\n",
       "    <tr>\n",
       "      <th>240</th>\n",
       "      <td>63340400</td>\n",
       "      <td>22158200</td>\n",
       "      <td>17533200</td>\n",
       "      <td>13335000</td>\n",
       "      <td>24541800</td>\n",
       "    </tr>\n",
       "    <tr>\n",
       "      <th>241</th>\n",
       "      <td>22158200</td>\n",
       "      <td>17533200</td>\n",
       "      <td>13335000</td>\n",
       "      <td>24541800</td>\n",
       "      <td>36874200</td>\n",
       "    </tr>\n",
       "    <tr>\n",
       "      <th>242</th>\n",
       "      <td>17533200</td>\n",
       "      <td>13335000</td>\n",
       "      <td>24541800</td>\n",
       "      <td>36874200</td>\n",
       "      <td>0</td>\n",
       "    </tr>\n",
       "  </tbody>\n",
       "</table>\n",
       "<p>243 rows × 5 columns</p>\n",
       "</div>"
      ],
      "text/plain": [
       "          t-4       t-3       t-2       t-1  Data Prediksi\n",
       "0    13594300  25436000  17891900  13066800       10315100\n",
       "1    25436000  17891900  13066800  10315100       17014700\n",
       "2    17891900  13066800  10315100  17014700        9181200\n",
       "3    13066800  10315100  17014700   9181200        7421300\n",
       "4    10315100  17014700   9181200   7421300        7768200\n",
       "..        ...       ...       ...       ...            ...\n",
       "238  42089100  30234200  63340400  22158200       17533200\n",
       "239  30234200  63340400  22158200  17533200       13335000\n",
       "240  63340400  22158200  17533200  13335000       24541800\n",
       "241  22158200  17533200  13335000  24541800       36874200\n",
       "242  17533200  13335000  24541800  36874200              0\n",
       "\n",
       "[243 rows x 5 columns]"
      ]
     },
     "execution_count": 7,
     "metadata": {},
     "output_type": "execute_result"
    }
   ],
   "source": [
    "newData = pd.concat([newFitur,newTarget], axis=1)\n",
    "newData"
   ]
  },
  {
   "cell_type": "code",
   "execution_count": 16,
   "metadata": {},
   "outputs": [],
   "source": [
    "from sklearn.preprocessing import MinMaxScaler\n",
    "training_set = newData.iloc[:100, 1:2].values\n",
    "test_set = newData.iloc[100:, 1:2].values\n",
    "scaler = MinMaxScaler(feature_range = (0, 1))\n",
    "data_training = scaler.fit_transform(training_set)\n",
    "X_train = []\n",
    "y_train = []\n",
    "x = 5\n",
    "for i in range(x, len(training_set)):\n",
    "    X_train.append(data_training[i-x:i, 0])\n",
    "    y_train.append(data_training[i, 0])\n",
    "X_train, y_train = np.array(X_train), np.array(y_train)\n",
    "X_train = np.reshape(X_train, (X_train.shape[0], X_train.shape[1], 1))"
   ]
  },
  {
   "cell_type": "code",
   "execution_count": 19,
   "metadata": {},
   "outputs": [
    {
     "data": {
      "text/plain": [
       "(95, 5, 1)"
      ]
     },
     "execution_count": 19,
     "metadata": {},
     "output_type": "execute_result"
    }
   ],
   "source": [
    "xtrainbaru = np.reshape(X_train, (95, 5))\n",
    "X_train.shape"
   ]
  },
  {
   "cell_type": "code",
   "execution_count": null,
   "metadata": {},
   "outputs": [],
   "source": []
  }
 ],
 "metadata": {
  "language_info": {
   "name": "python"
  },
  "orig_nbformat": 4
 },
 "nbformat": 4,
 "nbformat_minor": 2
}
